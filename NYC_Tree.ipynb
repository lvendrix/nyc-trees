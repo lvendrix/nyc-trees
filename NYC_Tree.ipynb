{
 "cells": [
  {
   "cell_type": "markdown",
   "id": "fb5e83b5",
   "metadata": {},
   "source": [
    "# NYC Tree Data Cleaning"
   ]
  },
  {
   "cell_type": "markdown",
   "id": "34eef001",
   "metadata": {},
   "source": [
    "### In this notebook, we'll attempt to clean as much as possible the '2015 Street Tree Census - Tree Data' dataset. We have a sample of 100.000 rows instead of the original 684.000 rows."
   ]
  },
  {
   "cell_type": "code",
   "execution_count": 1,
   "id": "d42af000",
   "metadata": {},
   "outputs": [],
   "source": [
    "import pandas as pd\n",
    "import matplotlib.pyplot as plt\n",
    "import seaborn as sns"
   ]
  },
  {
   "cell_type": "code",
   "execution_count": 2,
   "id": "c7fc76d3",
   "metadata": {},
   "outputs": [
    {
     "data": {
      "text/html": [
       "<div>\n",
       "<style scoped>\n",
       "    .dataframe tbody tr th:only-of-type {\n",
       "        vertical-align: middle;\n",
       "    }\n",
       "\n",
       "    .dataframe tbody tr th {\n",
       "        vertical-align: top;\n",
       "    }\n",
       "\n",
       "    .dataframe thead th {\n",
       "        text-align: right;\n",
       "    }\n",
       "</style>\n",
       "<table border=\"1\" class=\"dataframe\">\n",
       "  <thead>\n",
       "    <tr style=\"text-align: right;\">\n",
       "      <th></th>\n",
       "      <th>created_at</th>\n",
       "      <th>tree_id</th>\n",
       "      <th>block_id</th>\n",
       "      <th>the_geom</th>\n",
       "      <th>tree_dbh</th>\n",
       "      <th>stump_diam</th>\n",
       "      <th>curb_loc</th>\n",
       "      <th>status</th>\n",
       "      <th>health</th>\n",
       "      <th>spc_latin</th>\n",
       "      <th>...</th>\n",
       "      <th>st_assem</th>\n",
       "      <th>st_senate</th>\n",
       "      <th>nta</th>\n",
       "      <th>nta_name</th>\n",
       "      <th>boro_ct</th>\n",
       "      <th>state</th>\n",
       "      <th>latitude</th>\n",
       "      <th>longitude</th>\n",
       "      <th>x_sp</th>\n",
       "      <th>y_sp</th>\n",
       "    </tr>\n",
       "  </thead>\n",
       "  <tbody>\n",
       "    <tr>\n",
       "      <th>0</th>\n",
       "      <td>08/27/2015</td>\n",
       "      <td>180683</td>\n",
       "      <td>348711</td>\n",
       "      <td>POINT (-73.84421521958048 40.723091773924274)</td>\n",
       "      <td>3</td>\n",
       "      <td>0</td>\n",
       "      <td>OnCurb</td>\n",
       "      <td>Alive</td>\n",
       "      <td>Fair</td>\n",
       "      <td>Acer rubrum</td>\n",
       "      <td>...</td>\n",
       "      <td>28</td>\n",
       "      <td>16</td>\n",
       "      <td>QN17</td>\n",
       "      <td>Forest Hills</td>\n",
       "      <td>4073900</td>\n",
       "      <td>New York</td>\n",
       "      <td>40.723092</td>\n",
       "      <td>-73.844215</td>\n",
       "      <td>1.027431e+06</td>\n",
       "      <td>202756.768749</td>\n",
       "    </tr>\n",
       "    <tr>\n",
       "      <th>1</th>\n",
       "      <td>09/03/2015</td>\n",
       "      <td>200540</td>\n",
       "      <td>315986</td>\n",
       "      <td>POINT (-73.81867945834878 40.79411066708779)</td>\n",
       "      <td>21</td>\n",
       "      <td>0</td>\n",
       "      <td>OnCurb</td>\n",
       "      <td>Alive</td>\n",
       "      <td>Fair</td>\n",
       "      <td>Quercus palustris</td>\n",
       "      <td>...</td>\n",
       "      <td>27</td>\n",
       "      <td>11</td>\n",
       "      <td>QN49</td>\n",
       "      <td>Whitestone</td>\n",
       "      <td>4097300</td>\n",
       "      <td>New York</td>\n",
       "      <td>40.794111</td>\n",
       "      <td>-73.818679</td>\n",
       "      <td>1.034456e+06</td>\n",
       "      <td>228644.837379</td>\n",
       "    </tr>\n",
       "    <tr>\n",
       "      <th>2</th>\n",
       "      <td>09/05/2015</td>\n",
       "      <td>204026</td>\n",
       "      <td>218365</td>\n",
       "      <td>POINT (-73.93660770459083 40.717580740099116)</td>\n",
       "      <td>3</td>\n",
       "      <td>0</td>\n",
       "      <td>OnCurb</td>\n",
       "      <td>Alive</td>\n",
       "      <td>Good</td>\n",
       "      <td>Gleditsia triacanthos var. inermis</td>\n",
       "      <td>...</td>\n",
       "      <td>50</td>\n",
       "      <td>18</td>\n",
       "      <td>BK90</td>\n",
       "      <td>East Williamsburg</td>\n",
       "      <td>3044900</td>\n",
       "      <td>New York</td>\n",
       "      <td>40.717581</td>\n",
       "      <td>-73.936608</td>\n",
       "      <td>1.001823e+06</td>\n",
       "      <td>200716.891267</td>\n",
       "    </tr>\n",
       "    <tr>\n",
       "      <th>3</th>\n",
       "      <td>09/05/2015</td>\n",
       "      <td>204337</td>\n",
       "      <td>217969</td>\n",
       "      <td>POINT (-73.93445615919741 40.713537494833226)</td>\n",
       "      <td>10</td>\n",
       "      <td>0</td>\n",
       "      <td>OnCurb</td>\n",
       "      <td>Alive</td>\n",
       "      <td>Good</td>\n",
       "      <td>Gleditsia triacanthos var. inermis</td>\n",
       "      <td>...</td>\n",
       "      <td>53</td>\n",
       "      <td>18</td>\n",
       "      <td>BK90</td>\n",
       "      <td>East Williamsburg</td>\n",
       "      <td>3044900</td>\n",
       "      <td>New York</td>\n",
       "      <td>40.713537</td>\n",
       "      <td>-73.934456</td>\n",
       "      <td>1.002420e+06</td>\n",
       "      <td>199244.253136</td>\n",
       "    </tr>\n",
       "    <tr>\n",
       "      <th>4</th>\n",
       "      <td>08/30/2015</td>\n",
       "      <td>189565</td>\n",
       "      <td>223043</td>\n",
       "      <td>POINT (-73.97597938483258 40.66677775537875)</td>\n",
       "      <td>21</td>\n",
       "      <td>0</td>\n",
       "      <td>OnCurb</td>\n",
       "      <td>Alive</td>\n",
       "      <td>Good</td>\n",
       "      <td>Tilia americana</td>\n",
       "      <td>...</td>\n",
       "      <td>44</td>\n",
       "      <td>21</td>\n",
       "      <td>BK37</td>\n",
       "      <td>Park Slope-Gowanus</td>\n",
       "      <td>3016500</td>\n",
       "      <td>New York</td>\n",
       "      <td>40.666778</td>\n",
       "      <td>-73.975979</td>\n",
       "      <td>9.909138e+05</td>\n",
       "      <td>182202.425999</td>\n",
       "    </tr>\n",
       "  </tbody>\n",
       "</table>\n",
       "<p>5 rows × 42 columns</p>\n",
       "</div>"
      ],
      "text/plain": [
       "   created_at  tree_id  block_id  \\\n",
       "0  08/27/2015   180683    348711   \n",
       "1  09/03/2015   200540    315986   \n",
       "2  09/05/2015   204026    218365   \n",
       "3  09/05/2015   204337    217969   \n",
       "4  08/30/2015   189565    223043   \n",
       "\n",
       "                                        the_geom  tree_dbh  stump_diam  \\\n",
       "0  POINT (-73.84421521958048 40.723091773924274)         3           0   \n",
       "1   POINT (-73.81867945834878 40.79411066708779)        21           0   \n",
       "2  POINT (-73.93660770459083 40.717580740099116)         3           0   \n",
       "3  POINT (-73.93445615919741 40.713537494833226)        10           0   \n",
       "4   POINT (-73.97597938483258 40.66677775537875)        21           0   \n",
       "\n",
       "  curb_loc status health                           spc_latin  ... st_assem  \\\n",
       "0   OnCurb  Alive   Fair                         Acer rubrum  ...       28   \n",
       "1   OnCurb  Alive   Fair                   Quercus palustris  ...       27   \n",
       "2   OnCurb  Alive   Good  Gleditsia triacanthos var. inermis  ...       50   \n",
       "3   OnCurb  Alive   Good  Gleditsia triacanthos var. inermis  ...       53   \n",
       "4   OnCurb  Alive   Good                     Tilia americana  ...       44   \n",
       "\n",
       "  st_senate   nta            nta_name  boro_ct     state   latitude  \\\n",
       "0        16  QN17        Forest Hills  4073900  New York  40.723092   \n",
       "1        11  QN49          Whitestone  4097300  New York  40.794111   \n",
       "2        18  BK90   East Williamsburg  3044900  New York  40.717581   \n",
       "3        18  BK90   East Williamsburg  3044900  New York  40.713537   \n",
       "4        21  BK37  Park Slope-Gowanus  3016500  New York  40.666778   \n",
       "\n",
       "   longitude          x_sp           y_sp  \n",
       "0 -73.844215  1.027431e+06  202756.768749  \n",
       "1 -73.818679  1.034456e+06  228644.837379  \n",
       "2 -73.936608  1.001823e+06  200716.891267  \n",
       "3 -73.934456  1.002420e+06  199244.253136  \n",
       "4 -73.975979  9.909138e+05  182202.425999  \n",
       "\n",
       "[5 rows x 42 columns]"
      ]
     },
     "execution_count": 2,
     "metadata": {},
     "output_type": "execute_result"
    }
   ],
   "source": [
    "df = pd.read_csv('data_100000.csv')\n",
    "df.head()"
   ]
  },
  {
   "cell_type": "code",
   "execution_count": 3,
   "id": "6da4935e",
   "metadata": {},
   "outputs": [
    {
     "name": "stdout",
     "output_type": "stream",
     "text": [
      "<class 'pandas.core.frame.DataFrame'>\n",
      "RangeIndex: 100000 entries, 0 to 99999\n",
      "Data columns (total 42 columns):\n",
      " #   Column      Non-Null Count   Dtype  \n",
      "---  ------      --------------   -----  \n",
      " 0   created_at  100000 non-null  object \n",
      " 1   tree_id     100000 non-null  int64  \n",
      " 2   block_id    100000 non-null  int64  \n",
      " 3   the_geom    100000 non-null  object \n",
      " 4   tree_dbh    100000 non-null  int64  \n",
      " 5   stump_diam  100000 non-null  int64  \n",
      " 6   curb_loc    100000 non-null  object \n",
      " 7   status      100000 non-null  object \n",
      " 8   health      95007 non-null   object \n",
      " 9   spc_latin   95008 non-null   object \n",
      " 10  spc_common  95008 non-null   object \n",
      " 11  steward     95008 non-null   object \n",
      " 12  guards      95008 non-null   object \n",
      " 13  sidewalk    95008 non-null   object \n",
      " 14  user_type   100000 non-null  object \n",
      " 15  problems    95008 non-null   object \n",
      " 16  root_stone  100000 non-null  object \n",
      " 17  root_grate  100000 non-null  object \n",
      " 18  root_other  100000 non-null  object \n",
      " 19  trnk_wire   100000 non-null  object \n",
      " 20  trnk_light  100000 non-null  object \n",
      " 21  trnk_other  100000 non-null  object \n",
      " 22  brnch_ligh  100000 non-null  object \n",
      " 23  brnch_shoe  100000 non-null  object \n",
      " 24  brnch_othe  100000 non-null  object \n",
      " 25  address     100000 non-null  object \n",
      " 26  zipcode     100000 non-null  int64  \n",
      " 27  zip_city    100000 non-null  object \n",
      " 28  cb_num      100000 non-null  int64  \n",
      " 29  borocode    100000 non-null  int64  \n",
      " 30  boroname    100000 non-null  object \n",
      " 31  cncldist    100000 non-null  int64  \n",
      " 32  st_assem    100000 non-null  int64  \n",
      " 33  st_senate   100000 non-null  int64  \n",
      " 34  nta         100000 non-null  object \n",
      " 35  nta_name    100000 non-null  object \n",
      " 36  boro_ct     100000 non-null  int64  \n",
      " 37  state       100000 non-null  object \n",
      " 38  latitude    100000 non-null  float64\n",
      " 39  longitude   100000 non-null  float64\n",
      " 40  x_sp        100000 non-null  float64\n",
      " 41  y_sp        100000 non-null  float64\n",
      "dtypes: float64(4), int64(11), object(27)\n",
      "memory usage: 32.0+ MB\n"
     ]
    }
   ],
   "source": [
    "df.info()"
   ]
  },
  {
   "cell_type": "markdown",
   "id": "e6c26efb",
   "metadata": {},
   "source": [
    "It seems like we have 4992 rows with some missing values for the columns 'health', 'spc_latin', 'spc_common', 'steward', 'guards', 'problems' and 'sidewalk_damage'. We might me tempted to delete those rows with NaN values but actually all those rows belong to either a 'stump' or 'dead' tree. Thus, it makes sense that they don't have any values for those columns. We should keep them."
   ]
  },
  {
   "cell_type": "code",
   "execution_count": 4,
   "id": "842edaf4",
   "metadata": {},
   "outputs": [
    {
     "data": {
      "text/plain": [
       "Alive    95008\n",
       "Stump     2831\n",
       "Dead      2161\n",
       "Name: status, dtype: int64"
      ]
     },
     "execution_count": 4,
     "metadata": {},
     "output_type": "execute_result"
    }
   ],
   "source": [
    "df.status.value_counts()"
   ]
  },
  {
   "cell_type": "code",
   "execution_count": 5,
   "id": "c758540c",
   "metadata": {},
   "outputs": [
    {
     "data": {
      "text/html": [
       "<div>\n",
       "<style scoped>\n",
       "    .dataframe tbody tr th:only-of-type {\n",
       "        vertical-align: middle;\n",
       "    }\n",
       "\n",
       "    .dataframe tbody tr th {\n",
       "        vertical-align: top;\n",
       "    }\n",
       "\n",
       "    .dataframe thead th {\n",
       "        text-align: right;\n",
       "    }\n",
       "</style>\n",
       "<table border=\"1\" class=\"dataframe\">\n",
       "  <thead>\n",
       "    <tr style=\"text-align: right;\">\n",
       "      <th></th>\n",
       "      <th>created_at</th>\n",
       "      <th>tree_id</th>\n",
       "      <th>block_id</th>\n",
       "      <th>the_geom</th>\n",
       "      <th>tree_dbh</th>\n",
       "      <th>stump_diam</th>\n",
       "      <th>curb_loc</th>\n",
       "      <th>status</th>\n",
       "      <th>health</th>\n",
       "      <th>spc_latin</th>\n",
       "      <th>...</th>\n",
       "      <th>st_assem</th>\n",
       "      <th>st_senate</th>\n",
       "      <th>nta</th>\n",
       "      <th>nta_name</th>\n",
       "      <th>boro_ct</th>\n",
       "      <th>state</th>\n",
       "      <th>latitude</th>\n",
       "      <th>longitude</th>\n",
       "      <th>x_sp</th>\n",
       "      <th>y_sp</th>\n",
       "    </tr>\n",
       "  </thead>\n",
       "  <tbody>\n",
       "    <tr>\n",
       "      <th>32794</th>\n",
       "      <td>09/21/2015</td>\n",
       "      <td>245041</td>\n",
       "      <td>413012</td>\n",
       "      <td>POINT (-74.21641202587655 40.54859739520807)</td>\n",
       "      <td>16</td>\n",
       "      <td>0</td>\n",
       "      <td>OnCurb</td>\n",
       "      <td>Alive</td>\n",
       "      <td>NaN</td>\n",
       "      <td>Fraxinus pennsylvanica</td>\n",
       "      <td>...</td>\n",
       "      <td>62</td>\n",
       "      <td>24</td>\n",
       "      <td>SI32</td>\n",
       "      <td>Rossville-Woodrow</td>\n",
       "      <td>5020801</td>\n",
       "      <td>New York</td>\n",
       "      <td>40.548597</td>\n",
       "      <td>-74.216412</td>\n",
       "      <td>924106.880773</td>\n",
       "      <td>139219.632044</td>\n",
       "    </tr>\n",
       "  </tbody>\n",
       "</table>\n",
       "<p>1 rows × 42 columns</p>\n",
       "</div>"
      ],
      "text/plain": [
       "       created_at  tree_id  block_id  \\\n",
       "32794  09/21/2015   245041    413012   \n",
       "\n",
       "                                           the_geom  tree_dbh  stump_diam  \\\n",
       "32794  POINT (-74.21641202587655 40.54859739520807)        16           0   \n",
       "\n",
       "      curb_loc status health               spc_latin  ... st_assem st_senate  \\\n",
       "32794   OnCurb  Alive    NaN  Fraxinus pennsylvanica  ...       62        24   \n",
       "\n",
       "        nta           nta_name  boro_ct     state   latitude  longitude  \\\n",
       "32794  SI32  Rossville-Woodrow  5020801  New York  40.548597 -74.216412   \n",
       "\n",
       "                x_sp           y_sp  \n",
       "32794  924106.880773  139219.632044  \n",
       "\n",
       "[1 rows x 42 columns]"
      ]
     },
     "execution_count": 5,
     "metadata": {},
     "output_type": "execute_result"
    }
   ],
   "source": [
    "df_alive=df[df['status']=='Alive']\n",
    "df_alive[df_alive.isnull().any(axis=1)]"
   ]
  },
  {
   "cell_type": "markdown",
   "id": "0d655cd7",
   "metadata": {},
   "source": [
    "1 row has the 'health' variable missing."
   ]
  },
  {
   "cell_type": "markdown",
   "id": "3ff1d0bf",
   "metadata": {},
   "source": [
    "We only keep the 'latitude' and 'longitude' information concerning the location of each tree."
   ]
  },
  {
   "cell_type": "code",
   "execution_count": 6,
   "id": "5b301d8b",
   "metadata": {},
   "outputs": [],
   "source": [
    "df = df.drop(['the_geom', 'state', 'zip_city', 'x_sp', 'y_sp', 'address', 'borocode', 'boroname', 'boro_ct', 'cb_num', 'st_assem', 'st_senate', 'nta', 'nta_name', 'cncldist'], 1)"
   ]
  },
  {
   "cell_type": "markdown",
   "id": "f85ffe5b",
   "metadata": {},
   "source": [
    "We'll drop all columns not necesarry for machine learning. We will only keep information directly related to the tree."
   ]
  },
  {
   "cell_type": "code",
   "execution_count": 7,
   "id": "7a4c10da",
   "metadata": {},
   "outputs": [],
   "source": [
    "df = df.drop(['created_at', 'tree_id', 'block_id', 'spc_latin', 'steward', 'guards', 'user_type', 'problems'], 1)"
   ]
  },
  {
   "cell_type": "code",
   "execution_count": 8,
   "id": "3dc78181",
   "metadata": {},
   "outputs": [
    {
     "name": "stdout",
     "output_type": "stream",
     "text": [
      "<class 'pandas.core.frame.DataFrame'>\n",
      "RangeIndex: 100000 entries, 0 to 99999\n",
      "Data columns (total 19 columns):\n",
      " #   Column      Non-Null Count   Dtype  \n",
      "---  ------      --------------   -----  \n",
      " 0   tree_dbh    100000 non-null  int64  \n",
      " 1   stump_diam  100000 non-null  int64  \n",
      " 2   curb_loc    100000 non-null  object \n",
      " 3   status      100000 non-null  object \n",
      " 4   health      95007 non-null   object \n",
      " 5   spc_common  95008 non-null   object \n",
      " 6   sidewalk    95008 non-null   object \n",
      " 7   root_stone  100000 non-null  object \n",
      " 8   root_grate  100000 non-null  object \n",
      " 9   root_other  100000 non-null  object \n",
      " 10  trnk_wire   100000 non-null  object \n",
      " 11  trnk_light  100000 non-null  object \n",
      " 12  trnk_other  100000 non-null  object \n",
      " 13  brnch_ligh  100000 non-null  object \n",
      " 14  brnch_shoe  100000 non-null  object \n",
      " 15  brnch_othe  100000 non-null  object \n",
      " 16  zipcode     100000 non-null  int64  \n",
      " 17  latitude    100000 non-null  float64\n",
      " 18  longitude   100000 non-null  float64\n",
      "dtypes: float64(2), int64(3), object(14)\n",
      "memory usage: 14.5+ MB\n"
     ]
    }
   ],
   "source": [
    "df.info()"
   ]
  },
  {
   "cell_type": "markdown",
   "id": "6f569540",
   "metadata": {},
   "source": [
    "As 'sidewalk' has two values: 'NoDamage' or 'Damage'. I replace it a new one called 'sidewalk_damage' with 'Yes' or 'No'. It seems clearer this way."
   ]
  },
  {
   "cell_type": "code",
   "execution_count": 9,
   "id": "4bf4835e",
   "metadata": {},
   "outputs": [],
   "source": [
    "def damage(x):\n",
    "    if x =='NoDamage':\n",
    "        return 'No'\n",
    "    elif x =='Damage':\n",
    "        return 'Yes'\n",
    "df['sidewalk_damage'] = df['sidewalk'].apply(lambda x: damage(x))\n",
    "df = df.drop(['sidewalk'], 1)"
   ]
  },
  {
   "cell_type": "markdown",
   "id": "91b19558",
   "metadata": {},
   "source": [
    "Let's change the name of some columns so it's clearer to understand what information they contain."
   ]
  },
  {
   "cell_type": "code",
   "execution_count": 10,
   "id": "bf3c5c79",
   "metadata": {},
   "outputs": [],
   "source": [
    "df = df.rename(columns={\n",
    "    'brnch_othe': 'branch_other',\n",
    "    'brnch_shoe': 'branch_shoe',\n",
    "    'brnch_ligh': 'branch_light',\n",
    "    'trnk_wire': 'trunk_wire',\n",
    "    'trnk_light': 'trunk_light',\n",
    "    'trnk_other': 'trunk_other'\n",
    "    })"
   ]
  },
  {
   "cell_type": "markdown",
   "id": "0c4120f4",
   "metadata": {},
   "source": [
    "I clean the 'spc_common' values (capitalize, replace, ...)."
   ]
  },
  {
   "cell_type": "code",
   "execution_count": 14,
   "id": "10cbcc2e",
   "metadata": {},
   "outputs": [],
   "source": [
    "df['spc_common'] = df['spc_common'].str.capitalize().str.replace(\"-\", \" \")"
   ]
  },
  {
   "cell_type": "code",
   "execution_count": 12,
   "id": "b070d0a1",
   "metadata": {},
   "outputs": [
    {
     "name": "stdout",
     "output_type": "stream",
     "text": [
      "<class 'pandas.core.frame.DataFrame'>\n",
      "RangeIndex: 100000 entries, 0 to 99999\n",
      "Data columns (total 19 columns):\n",
      " #   Column           Non-Null Count   Dtype  \n",
      "---  ------           --------------   -----  \n",
      " 0   tree_dbh         100000 non-null  int64  \n",
      " 1   stump_diam       100000 non-null  int64  \n",
      " 2   curb_loc         100000 non-null  object \n",
      " 3   status           100000 non-null  object \n",
      " 4   health           95007 non-null   object \n",
      " 5   spc_common       95008 non-null   object \n",
      " 6   root_stone       100000 non-null  object \n",
      " 7   root_grate       100000 non-null  object \n",
      " 8   root_other       100000 non-null  object \n",
      " 9   trunk_wire       100000 non-null  object \n",
      " 10  trunk_light      100000 non-null  object \n",
      " 11  trunk_other      100000 non-null  object \n",
      " 12  branch_light     100000 non-null  object \n",
      " 13  branch_shoe      100000 non-null  object \n",
      " 14  branch_other     100000 non-null  object \n",
      " 15  zipcode          100000 non-null  int64  \n",
      " 16  latitude         100000 non-null  float64\n",
      " 17  longitude        100000 non-null  float64\n",
      " 18  sidewalk_damage  95008 non-null   object \n",
      "dtypes: float64(2), int64(3), object(14)\n",
      "memory usage: 14.5+ MB\n"
     ]
    }
   ],
   "source": [
    "df.info()"
   ]
  }
 ],
 "metadata": {
  "kernelspec": {
   "display_name": "Python 3",
   "language": "python",
   "name": "python3"
  },
  "language_info": {
   "codemirror_mode": {
    "name": "ipython",
    "version": 3
   },
   "file_extension": ".py",
   "mimetype": "text/x-python",
   "name": "python",
   "nbconvert_exporter": "python",
   "pygments_lexer": "ipython3",
   "version": "3.8.8"
  }
 },
 "nbformat": 4,
 "nbformat_minor": 5
}
